{
 "cells": [
  {
   "cell_type": "code",
   "execution_count": 1,
   "metadata": {},
   "outputs": [],
   "source": [
    "## Imports\n",
    "import urllib.request\n",
    "import json\n",
    "import matplotlib.pyplot as plt\n",
    "import pickle\n",
    "import re\n"
   ]
  },
  {
   "cell_type": "code",
   "execution_count": 2,
   "metadata": {},
   "outputs": [],
   "source": [
    "def save_object(obj, filename):\n",
    "    with open(filename, 'wb') as output:  # Overwrites any existing file.\n",
    "        pickle.dump(obj, output, 2)\n",
    "\n",
    "def load_object(filename):\n",
    "    output = 0\n",
    "    with open(filename, 'rb') as fp:\n",
    "        output = pickle.load(fp)\n",
    "    return output\n"
   ]
  },
  {
   "cell_type": "code",
   "execution_count": 3,
   "metadata": {},
   "outputs": [],
   "source": [
    "def read_json(html_extension,type_url):\n",
    "    if (\"http\" not in html_extension):\n",
    "        html = 'http://api.openparliament.ca'+ html_extension    # api.openparliament.ca is the root to all nested urls\n",
    "    else:\n",
    "        html = html_extension\n",
    "    \n",
    "    if type_url == \"other\":\n",
    "        with urllib.request.urlopen(html) as url:\n",
    "            data = json.loads(url.read().decode())\n",
    "            content = data['objects']\n",
    "            pagination = data['pagination']\n",
    "            return pagination, content\n",
    "        \n",
    "    if type_url == \"single\":\n",
    "        while (True):\n",
    "            try:\n",
    "                with urllib.request.urlopen(html) as url:\n",
    "                    data = json.loads(url.read().decode())\n",
    "                    return data\n",
    "            except:\n",
    "                print(\"url response not well, try again\")\n",
    "        \n"
   ]
  },
  {
   "cell_type": "code",
   "execution_count": 4,
   "metadata": {},
   "outputs": [],
   "source": [
    "def nested_url(pagination,content):\n",
    "    list_url = []\n",
    "    while isinstance(pagination['next_url'],str):\n",
    "        list_url.append(pagination['next_url'])\n",
    "    \n",
    "        pagination, content = read_json(pagination['next_url'],'other')\n",
    "    return list_url"
   ]
  },
  {
   "cell_type": "code",
   "execution_count": null,
   "metadata": {},
   "outputs": [],
   "source": [
    "first_mps = '/politicians/?include=all&format=json'\n",
    "pagination,content = read_json(first_mps,'other')     #please treat tuples properly and i mean separate the elements\n",
    "b=nested_url(pagination,content)\n",
    "print (b)"
   ]
  },
  {
   "cell_type": "code",
   "execution_count": 5,
   "metadata": {},
   "outputs": [],
   "source": [
    "def mp_info_all(pagination, content):\n",
    "    df = {}\n",
    "    politicians = content\n",
    "    \n",
    "    while isinstance(pagination['next_url'],str):\n",
    "        \n",
    "        if (not isinstance(politicians, list)):\n",
    "            break\n",
    "       \n",
    "        for i in range(0,len(politicians)):\n",
    "            poli_url = politicians[i]['url']                               # mp url from list of mps\n",
    "            name = poli_url.split(\"/politicians/\",1)[1][:-1]        # split of string and removal of /\n",
    "            info_mp = read_json(poli_url+'?format=json','single')\n",
    "            list_s_date = []\n",
    "            list_e_date = []\n",
    "            list_prov = []\n",
    "            list_party = []\n",
    "            memberships = info_mp['memberships']\n",
    "\n",
    "            for j in range(0, len(memberships)):\n",
    "                if memberships[j]['end_date'] is None:\n",
    "                    list_e_date.append('still active')\n",
    "                else:\n",
    "                    list_e_date.append(memberships[j]['end_date'])\n",
    "\n",
    "                list_s_date.append(memberships[j]['start_date'])\n",
    "                list_prov.append(memberships[j]['riding']['province'])\n",
    "                list_party.append(memberships[j]['party']['short_name']['en'])\n",
    "            df.update({name: {'province':list_prov,'party':list_party,'start date':list_s_date,'end date': list_e_date}})\n",
    "            print (\"number of MP: \" + str(len(df)), end=\"\\r\")\n",
    "        if isinstance(pagination['next_url'], str):\n",
    "            pagination, content = read_json(pagination['next_url'],'other')\n",
    "        politicians = content\n",
    "        \n",
    "            \n",
    "            \n",
    "    return df"
   ]
  },
  {
   "cell_type": "code",
   "execution_count": null,
   "metadata": {},
   "outputs": [],
   "source": [
    "# first_mps = '/politicians/?include=all&format=json'\n",
    "# pagination,content = read_json(first_mps,'other')\n",
    "\n",
    "#{name: {'province':list_prov,'party':list_party,'start date':list_s_date,'end date': list_e_date}}\n",
    "mps = mp_info_all(pagination, content)\n",
    "save_object(mps, \"mp_dict.pkl\")\n",
    "print (len(mps))"
   ]
  },
  {
   "cell_type": "code",
   "execution_count": 6,
   "metadata": {},
   "outputs": [
    {
     "name": "stdout",
     "output_type": "stream",
     "text": [
      "1014\n"
     ]
    }
   ],
   "source": [
    "mps = load_object(\"mp_dict.pkl\")\n",
    "print (len(mps))\n"
   ]
  },
  {
   "cell_type": "code",
   "execution_count": null,
   "metadata": {},
   "outputs": [],
   "source": [
    "# http://api.openparliament.ca/bills/?sponsor_politician=ruth-ellen-brosseau&format=json"
   ]
  },
  {
   "cell_type": "code",
   "execution_count": 7,
   "metadata": {},
   "outputs": [],
   "source": [
    "\n",
    "#input is a list of mp names only\n",
    "\n",
    "#return a dictionary of {vote_url : sponsor}\n",
    "def sponsor(mps):\n",
    "    web = \"http://api.openparliament.ca/bills/?sponsor_politician=\"\n",
    "    j_format = \"&limit=500&format=json\"                               # set limit to 500 to avoir nested future url\n",
    "    \n",
    "    \n",
    "    # {vote : sponsors}\n",
    "    vote_sponsors = {}\n",
    "    \n",
    "    \n",
    "    for i in range(0,len(mps)):\n",
    "        v_url_total = []\n",
    "        \n",
    "        sponsor_url = web + str(mps[i]) + j_format\n",
    "        pagination,content = read_json(sponsor_url,'other')\n",
    "        \n",
    "        bills = content\n",
    "        More = True\n",
    "                \n",
    "        while (More):        \n",
    "            for j in range(0,len(bills)):                                 # access to list of bills sponsored\n",
    "                bill_id = bills[j]['url']\n",
    "                bill_url = \"http://api.openparliament.ca\"+ bill_id + \"?format=json\"\n",
    "                bill_content = read_json(bill_url, 'single')\n",
    "                vote_urls = bill_content[\"vote_urls\"]\n",
    "                if (vote_urls is None):\n",
    "                    continue\n",
    "                v_url_total.extend(vote_urls)\n",
    "            if isinstance(pagination['next_url'], str):\n",
    "                pagination, content = read_json(pagination['next_url'],'other')   #everybody loves their pagination :)\n",
    "            bills = content\n",
    "            More = isinstance(pagination['next_url'],str)\n",
    "        \n",
    "        # vote_url: sponsor\n",
    "        for vote_url in v_url_total:\n",
    "            vote_sponsors[vote_url] = mps[i]\n",
    "        \n",
    "        print (\"number of mps: \" + str(i), end=\"\\r\")\n",
    "            \n",
    "    return vote_sponsors\n",
    "            "
   ]
  },
  {
   "cell_type": "code",
   "execution_count": 8,
   "metadata": {},
   "outputs": [
    {
     "name": "stdout",
     "output_type": "stream",
     "text": [
      "1590er of mps: 1013\n"
     ]
    }
   ],
   "source": [
    "vote_sponsors = sponsor(list(mps.keys()))\n",
    "save_object(vote_sponsors, \"vote_sponsors.pkl\")\n",
    "print (len(vote_sponsors))"
   ]
  },
  {
   "cell_type": "code",
   "execution_count": 9,
   "metadata": {},
   "outputs": [],
   "source": [
    "vote_sponsors = load_object(\"vote_sponsors.pkl\")\n",
    "# print (vote_sponsors)\n"
   ]
  },
  {
   "cell_type": "code",
   "execution_count": 10,
   "metadata": {},
   "outputs": [],
   "source": [
    "'''\n",
    "grab all the votes not by mp but by bill\n",
    "'''\n",
    "#http://api.openparliament.ca/votes/ballots/?vote=%2Fvotes%2F42-1%2F1344%2F&ballot=Yes&limit=500&format=json\n",
    "def pos_votes(vote_sponsors, vote_type=\"Yes\"):\n",
    "    \n",
    "    #year : edgelist\n",
    "    temp_edgelist = {}\n",
    "    idx = 0\n",
    "    \n",
    "    for vote_url in vote_sponsors:\n",
    "        vote_urlname = re.split(' |/|\\\\\\\\',vote_url)\n",
    "        session, vote = vote_urlname[2], vote_urlname[3]\n",
    "        \n",
    "        \n",
    "        #http://api.openparliament.ca/votes/43-1/8/?format=json\n",
    "        vote_html = vote_url+\"?format=json\"\n",
    "        vote_content = read_json(vote_html, \"single\")\n",
    "        date = vote_content[\"date\"][0:4]\n",
    "        \n",
    "        ballot_url = '/votes/ballots/?vote=%2Fvotes%2F'+ session + '%2F' + vote + '%2F&limit=500&ballot=Yes&format=json'\n",
    "        pagination, ballots = read_json(ballot_url, \"other\")\n",
    "        \n",
    "        for ballot in ballots:\n",
    "            politician_url = ballot[\"politician_url\"]\n",
    "            politician = politician_url.split(\"/\")[-2]\n",
    "            if (date not in temp_edgelist):\n",
    "                temp_edgelist[date] = [(politician,vote_sponsors[vote_url])]\n",
    "            else:\n",
    "                temp_edgelist[date].append((politician,vote_sponsors[vote_url]))\n",
    "        \n",
    "        idx = idx + 1\n",
    "        \n",
    "        print (\"number of vote_url: \" + str(idx), end=\"\\r\")\n",
    "        \n",
    "    return temp_edgelist\n",
    "    \n",
    "    \n",
    "        \n",
    "            \n",
    "            \n",
    "            \n",
    "            \n",
    "        \n",
    "        \n",
    "        \n",
    "    \n",
    "    \n",
    "    \n",
    "    \n",
    "    \n"
   ]
  },
  {
   "cell_type": "code",
   "execution_count": 11,
   "metadata": {},
   "outputs": [
    {
     "name": "stdout",
     "output_type": "stream",
     "text": [
      "14mber of vote_url: 1590\n"
     ]
    }
   ],
   "source": [
    "temp_edgelist = pos_votes(vote_sponsors, vote_type=\"Yes\")\n",
    "save_object(temp_edgelist, \"temp_edgelist.pkl\")\n",
    "print (len(temp_edgelist))\n"
   ]
  },
  {
   "cell_type": "code",
   "execution_count": null,
   "metadata": {},
   "outputs": [],
   "source": [
    "'''\n",
    "take as input a list of mp names\n",
    "'''\n",
    "#vote typpe: \"Yes\", \"No\", \"Didn't vote\", \"Paired\"\n",
    "def all_votes(mps, vote_type=\"Yes\", prev=None, num=-1):\n",
    "    \n",
    "    \n",
    "    #date: {bill:[mp list]}\n",
    "    if (prev is not None):\n",
    "        vote_dict = prev\n",
    "    else:\n",
    "        vote_dict = {}\n",
    "    \n",
    "    \n",
    "    \n",
    "    web = \"http://api.openparliament.ca/votes/ballots/?ballot=\" + vote_type + \"&politician=%2Fpoliticians%2F\"\n",
    "    json_format = \"%2F&limit=1000&format=json\"\n",
    "    for i in range(num+1,len(mps)):\n",
    "        pagination,content = read_json(web+mps[i]+json_format, \"other\")\n",
    "        votes = content\n",
    "        More= True\n",
    "        \n",
    "        #date:[bill_ids]\n",
    "        date_dict = {}\n",
    "        \n",
    "        while (More):\n",
    "            for j in range(0,len(votes)):                                 # votes of the specified type \n",
    "                vote_url = votes[j][\"vote_url\"]\n",
    "                prefix = \"http://api.openparliament.ca/\"\n",
    "                suffix = \"?format=json\"\n",
    "                \n",
    "                vote_info = read_json(prefix + vote_url + suffix, \"single\")\n",
    "                bill_url = vote_info[\"bill_url\"]\n",
    "                if (bill_url is None):\n",
    "                    continue\n",
    "                date = vote_info[\"date\"]\n",
    "                bill_id = bill_url\n",
    "                if (date not in date_dict):\n",
    "                    date_dict[date] = [bill_id]\n",
    "                else:\n",
    "                    date_dict[date].append(bill_id)\n",
    "                \n",
    "            #check if there is more\n",
    "            if isinstance(pagination['next_url'], str):\n",
    "                    pagination, content = read_json(pagination['next_url'],'other')   #everybody loves their pagination :)\n",
    "            votes = content\n",
    "            More = isinstance(pagination['next_url'],str)\n",
    "        \n",
    "        for date in date_dict:\n",
    "            for bill_id in date_dict[date]:\n",
    "                if (date not in vote_dict):\n",
    "                    vote_dict[date] = {bill_id:[mps[i]]}\n",
    "                else:\n",
    "                    if (bill_id not in vote_dict[date]):\n",
    "                        vote_dict[date][bill_id] = [mps[i]]\n",
    "                    else:\n",
    "                        vote_dict[date][bill_id].append(mps[i])\n",
    "        \n",
    "        \n",
    "        print (\"number of mps: \" + str(i), end=\"\\r\")\n",
    "        save_object(vote_dict, \"yes_votes.pkl\")\n",
    "    return vote_dict"
   ]
  },
  {
   "cell_type": "code",
   "execution_count": null,
   "metadata": {},
   "outputs": [],
   "source": []
  },
  {
   "cell_type": "code",
   "execution_count": null,
   "metadata": {},
   "outputs": [],
   "source": [
    "yes_votes = load_object(\"yes_votes.pkl\")\n",
    "print (len(yes_votes))\n",
    "yes_votes = all_votes(list(mps.keys()))\n",
    "print (len(yes_votes))\n",
    "save_object(yes_votes, \"yes_votes.pkl\")\n"
   ]
  },
  {
   "cell_type": "code",
   "execution_count": null,
   "metadata": {},
   "outputs": [],
   "source": [
    "url_all_politicians = \"http://api.openparliament.ca/politicians/?include=current&format=json\"\n",
    "b = \"http://api.openparliament.ca/votes/ballots/?ballot=Yes&politician=%2Fpoliticians%2Fziad-aboultaif%2F&limit=1000&format=json\""
   ]
  },
  {
   "cell_type": "code",
   "execution_count": null,
   "metadata": {},
   "outputs": [],
   "source": [
    "def yes_votes(list_poli):\n",
    "    yes_bills = []\n",
    "    web = \"http://api.openparliament.ca/votes/?limit=500&format=json\"\n",
    "    votes = read_json(web,'other')\n",
    "    for i in range(0,len())\n",
    "    web = \"http://api.openparliament.ca/votes/ballots/?ballot=Yes&politician=%2Fpoliticians%2F\"\n",
    "    json_format = \"%2F&limit=1000&format=json\"\n",
    "    for i in range(0,len(list_poli)):\n",
    "        votes = read_json(web+list_poli[i]+json_format)\n",
    "        for j in votes"
   ]
  },
  {
   "cell_type": "code",
   "execution_count": null,
   "metadata": {},
   "outputs": [],
   "source": [
    "mps = mp_info(read_json(url_all_politicians,'other'))"
   ]
  },
  {
   "cell_type": "code",
   "execution_count": null,
   "metadata": {},
   "outputs": [],
   "source": [
    "print(mps[1]['name'])"
   ]
  },
  {
   "cell_type": "code",
   "execution_count": null,
   "metadata": {},
   "outputs": [],
   "source": [
    "print(len(mps))"
   ]
  },
  {
   "cell_type": "code",
   "execution_count": null,
   "metadata": {},
   "outputs": [],
   "source": [
    "sponsorship = sponsor(mps)"
   ]
  },
  {
   "cell_type": "code",
   "execution_count": null,
   "metadata": {},
   "outputs": [],
   "source": [
    "## RUN CELL TOMORROW MORNING\n",
    "print(sponsorship[44])"
   ]
  },
  {
   "cell_type": "code",
   "execution_count": null,
   "metadata": {},
   "outputs": [],
   "source": [
    "c = []\n",
    "for x in sponsorship:\n",
    "    bb = sponsorship[x]['name']\n",
    "    c.append(bb)"
   ]
  },
  {
   "cell_type": "code",
   "execution_count": null,
   "metadata": {},
   "outputs": [],
   "source": [
    "print(c)"
   ]
  },
  {
   "cell_type": "code",
   "execution_count": null,
   "metadata": {},
   "outputs": [],
   "source": [
    "ben = read_json('http://api.openparliament.ca/politicians/4830/?format=json','poli')"
   ]
  },
  {
   "cell_type": "code",
   "execution_count": null,
   "metadata": {},
   "outputs": [],
   "source": [
    "for i in range(0,len(ben['memberships'])):\n",
    "    print(ben['memberships'][i]['start_date'])"
   ]
  },
  {
   "cell_type": "code",
   "execution_count": null,
   "metadata": {},
   "outputs": [],
   "source": [
    "def bill_extraction(url_bills):\n",
    "    next_bills = url_bills['pagination']['next_url']\n",
    "    while next_bills != null:\n",
    "        "
   ]
  }
 ],
 "metadata": {
  "kernelspec": {
   "display_name": "Python 3",
   "language": "python",
   "name": "python3"
  },
  "language_info": {
   "codemirror_mode": {
    "name": "ipython",
    "version": 3
   },
   "file_extension": ".py",
   "mimetype": "text/x-python",
   "name": "python",
   "nbconvert_exporter": "python",
   "pygments_lexer": "ipython3",
   "version": "3.8.1"
  }
 },
 "nbformat": 4,
 "nbformat_minor": 2
}
